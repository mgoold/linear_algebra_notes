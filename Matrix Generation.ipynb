{
 "cells": [
  {
   "cell_type": "markdown",
   "id": "a6de1e45",
   "metadata": {},
   "source": [
    "### Invertible Matrices"
   ]
  },
  {
   "cell_type": "code",
   "execution_count": 186,
   "id": "04b6fccd",
   "metadata": {},
   "outputs": [
    {
     "name": "stdout",
     "output_type": "stream",
     "text": [
      "0 1\n",
      "1 2\n",
      "2 3\n",
      "3 5\n",
      "4 8\n",
      "5 13\n",
      "6 21\n",
      "7 34\n",
      "8 55\n",
      "9 89\n",
      "10 144\n"
     ]
    }
   ],
   "source": [
    "l1=(1+np.sqrt(5))/2\n",
    "l2=(1-np.sqrt(5))/2\n",
    "c1=(1/np.sqrt(5))\n",
    "c2=-1*(1/np.sqrt(5))\n",
    "\n",
    "for k in range(0,11):\n",
    "    result = ((c1*l1**k*l1)+(c1*l1**k*1))-((c2*l2**k*l2)+(c2*l2**k*1))\n",
    "    print(k,round(result))"
   ]
  },
  {
   "cell_type": "code",
   "execution_count": 143,
   "id": "8f46775f",
   "metadata": {},
   "outputs": [],
   "source": [
    "Inv1=[[1,-1,0],[1,0,-1],[2,3,-4]] # [[3,-4,1],[2,-4,1],[3,-5,1]]\n",
    "Inv2=[[1,0,2],[0,1,4],[0,0,1]]\n",
    "Inv3=[[1,1,1],[3,1,0],[1,1,2]]\n",
    "Inv4=[[1,1,1],[3,1,0],[1,1,2]]\n",
    "Inv5=[[2, 4, -2],[4,9,-3],[-2,-3,7]]\n",
    "\n",
    "# https://math.libretexts.org/Bookshelves/Linear_Algebra/Linear_Algebra_with_Applications_(Nicholson)/02%3A_Matrix_Algebra/2.05%3A_Matrix_Inverses/2.5E%3A_Matrix_Inverses_Exercises\n",
    "\n",
    "Inv6=[[3,5],[1,2]] # Inv6_inv = [[2,-5],[-1,3]]\n",
    "Inv7=[[1,2,0],[0,2,3],[1,3,1]] # Inv7_inv = [[7,2,-6],[-3,-1,3],[2,1,-2]]\n",
    "\n"
   ]
  },
  {
   "cell_type": "markdown",
   "id": "39e98735",
   "metadata": {},
   "source": [
    "## r < n Matrices for Special Solutions, Ax = 0"
   ]
  },
  {
   "cell_type": "code",
   "execution_count": 129,
   "id": "ed5436e1",
   "metadata": {},
   "outputs": [],
   "source": [
    "sps1 = [[1,2,2,4,6],[1,2,3,6,9],[0,0,1,2,3]]\n",
    "sps2 = [[2,4,2],[0,4,4],[0,8,8]]\n",
    "sps3 = [[1,3,0,2],[0,0,1,4],[2,5,1,4]]\n",
    "sps4 = [[1,2,3,5],[2,4,8,12],[3,6,7,13]]"
   ]
  },
  {
   "cell_type": "markdown",
   "id": "fed13180",
   "metadata": {},
   "source": [
    "## r < n Matrices for Complete Solutions, Ax = b"
   ]
  },
  {
   "cell_type": "code",
   "execution_count": 130,
   "id": "64ca8b2e",
   "metadata": {},
   "outputs": [],
   "source": [
    "# the _b notation indicates a b vector to use with the matrix A that has the corresponding name\n",
    "cpsm1 = [[1,2,1,0],[2,4,4,8],[4,8,6,8]]\n",
    "cpsm1_b = [4,2,10]\n",
    "cpsm2 = [[2,4,6,4],[2,5,7,6],[2,3,5,2]]\n",
    "cpsm2_b = [4,3,5] # xp = (2,2,2) or (4,5,3); s1 = (-1,-1,1,0), s2 = (2,-2,0,1)\n",
    "cpsm3 = [[1,3,3],[2,6,9],[-1,-3,3]]\n",
    "cpsm3_b = [1,5,5]\n",
    "cpsm4 = [[1,3,1,3],[2,6,4,8],[0,0,2,4]]\n",
    "cpsm4_b = [1,3,1]"
   ]
  },
  {
   "cell_type": "markdown",
   "id": "32bc4802",
   "metadata": {},
   "source": [
    "## Matrices for Eigenvector, Eigenvalue Practice"
   ]
  },
  {
   "cell_type": "code",
   "execution_count": null,
   "id": "c0156325",
   "metadata": {},
   "outputs": [],
   "source": [
    "# https://youtu.be/3Md5KCCQX-0?list=PL472D7015831DBF51\n",
    "eigm1 = [[-1,2,2],[2,2,-1],[2,-1,2]] #lambda = {3,-3}, ev_-3 = [-2,1,1] ev_-3 = c(1/2,1,0) + d(1/2,0,1)\n",
    "\n",
    "# ITLA, 5th ed.\n",
    "eigm2 = [[-1,3],[2,0]] #lambda = {-3,2}, x1 = (3,-2), x2 = (1,1) # ITLA, 5th ed. #4\n",
    "eigm3 = [[7,-3],[2,6]] #lambda = {9,4}, x1 = (3,-2), x2 = (1,1) (squares of eigm2 eigenvalues)  ITLA, 5th ed. #4\n",
    "eigm4 = [[3,0],[1,1]] #lambda = {1,3} # diagonal entries for original triangular matrix\n",
    "eigm5 = [[1,1],[0,3]] #lambda = {1,3} # diagonal entries for original triangular matrix\n",
    "eigm6 = [[4,1],[1,4]] #lambda = {3,5} \n",
    "eigm7 = [[-11,-19,14],[-6,-8,6],[-12,-22,15]] #lambda = {-5}, x = (3,2,4)\n",
    "eigm8 = [[-7,1,3],[10,2,-3],[-20,-14,1]] #lambda = {3}, x = (1,-2,4)"
   ]
  },
  {
   "cell_type": "markdown",
   "id": "fa21e066",
   "metadata": {},
   "source": [
    "## Matrices for Least Squares Fit Practice"
   ]
  },
  {
   "cell_type": "code",
   "execution_count": 142,
   "id": "6f534803",
   "metadata": {},
   "outputs": [],
   "source": [
    "# https://math.libretexts.org/Bookshelves/Linear_Algebra/Interactive_Linear_Algebra_(Margalit_and_Rabinoff)/06%3A_Orthogonality/6.5%3A_The_Method_of_Least_Squares\n",
    "lsqm1 = [[0,1],[1,1],[2,1]] #, lsqm1_b = [6,0,0] # sol: xhat = (-3,5), sqrt error = sqrt(6)\n",
    "lsqm2 = [[2,0],[-1,1],[0,2]] #, lsqm2_b = [1,0,-1] # sol: xhat = 1/3(1,-1)\n",
    "lsqm3 = [[1,0,1],[1,1,-1],[1,2,-3]] #, lsqm3_b = [6,0,0] # sol: xhat = x3(-1,2,1) + (5,-3,0)\n",
    "lsqm4 = [[1,0,1],[0,1,1],[-1,0,1],[0,-1,1]] #, lsqm4_b = [0,1,3,4] # sol: xhat = (-3/2, -3/2, 2)"
   ]
  },
  {
   "cell_type": "markdown",
   "id": "3a709449",
   "metadata": {},
   "source": [
    "## Square Invertible Matrix\n",
    "#### Use the Determinant to Test Your Self at G-J and LU Decomp"
   ]
  },
  {
   "cell_type": "code",
   "execution_count": 136,
   "id": "2aa5f8d1",
   "metadata": {},
   "outputs": [
    {
     "name": "stdout",
     "output_type": "stream",
     "text": [
      "[[2, 1, 2], [2, 2, 0], [0, 2, 0]]\n",
      "determinant 7.999999999999998\n",
      "inverse [[0.000000 0.500000 -0.500000]\n",
      " [0.000000 0.000000 0.500000]\n",
      " [0.500000 -0.500000 0.250000]]\n"
     ]
    }
   ],
   "source": [
    "# Alternately, generate your own invertible matrix\n",
    "import numpy as np\n",
    "\n",
    "def generate_invertible_matrix():\n",
    "    while True:\n",
    "        matrix = np.random.randint(-5, 5, size=(3, 3))\n",
    "        # Only return it if it's invertible.\n",
    "        if np.linalg.det(matrix)!= 0:\n",
    "            return matrix\n",
    "\n",
    "invmatrix = generate_invertible_matrix()\n",
    "\n",
    "# It's no use printing the inverse, bc it will be delivered in unfriendly decimals.\n",
    "# You just have to test it with G-J AI form yourself.\n",
    "\n",
    "print(Inv1)\n",
    "determinant = np.linalg.det(Inv1)\n",
    "inverse = np.linalg.inv(Inv1)\n",
    "\n",
    "print('determinant',determinant)\n",
    "print('inverse',inverse)"
   ]
  },
  {
   "cell_type": "markdown",
   "id": "da5e94d7",
   "metadata": {},
   "source": [
    "##  Square Singular Matrix"
   ]
  },
  {
   "cell_type": "code",
   "execution_count": 74,
   "id": "7ce999b4-78d4-4324-87b6-e7c13e495013",
   "metadata": {},
   "outputs": [
    {
     "name": "stdout",
     "output_type": "stream",
     "text": [
      "[[ -2  -4   0]\n",
      " [  7 -10   7]\n",
      " [ -6   0  -5]]\n"
     ]
    }
   ],
   "source": [
    "import numpy as np\n",
    "\n",
    "def generate_invertible_matrix():\n",
    "    while True:\n",
    "        matrix = np.random.randint(-10, 11, size=(3, 3))\n",
    "        # Only return it if it's not invertible.\n",
    "        if np.linalg.det(matrix)== 0:\n",
    "            return matrix\n",
    "\n",
    "matrix = generate_invertible_matrix()\n",
    "print(invmatrix)\n"
   ]
  },
  {
   "cell_type": "markdown",
   "id": "2cd6630a",
   "metadata": {},
   "source": [
    "## Rectangular"
   ]
  },
  {
   "cell_type": "code",
   "execution_count": 24,
   "id": "0b7232b4",
   "metadata": {},
   "outputs": [
    {
     "name": "stdout",
     "output_type": "stream",
     "text": [
      "[[ -5  -6   9  -6  -1]\n",
      " [ -1   0   3  -3  -6]\n",
      " [-10  -8   9  -6  -8]]\n"
     ]
    }
   ],
   "source": [
    "import numpy as np\n",
    "\n",
    "\n",
    "def generate_invertible_matrix(m,n):\n",
    "    matrix = np.random.randint(-10, 11, size=(m, n))\n",
    "    return matrix\n",
    "\n",
    "matrix = generate_invertible_matrix(3,5)\n",
    "print(matrix)\n"
   ]
  },
  {
   "cell_type": "markdown",
   "id": "c60b6268",
   "metadata": {},
   "source": [
    "## Skew-Symmetric"
   ]
  },
  {
   "cell_type": "code",
   "execution_count": 25,
   "id": "126e9b11",
   "metadata": {},
   "outputs": [
    {
     "name": "stdout",
     "output_type": "stream",
     "text": [
      "[[  0   3 -10]\n",
      " [ -3   0   0]\n",
      " [ 10   0   0]]\n"
     ]
    }
   ],
   "source": [
    "import numpy as np\n",
    "\n",
    "def generate_skew_symmetric_matrix():\n",
    "    # Generate a 3x3 skew-symmetric matrix\n",
    "    a = np.random.randint(-10, 11)\n",
    "    b = np.random.randint(-10, 11)\n",
    "    c = np.random.randint(-10, 11)\n",
    "    \n",
    "    matrix = np.array([[0, -c, b],\n",
    "                       [c, 0, -a],\n",
    "                       [-b, a, 0]])\n",
    "    return matrix\n",
    "\n",
    "matrix = generate_skew_symmetric_matrix()\n",
    "print(matrix)"
   ]
  },
  {
   "cell_type": "markdown",
   "id": "c23d9b57",
   "metadata": {},
   "source": [
    "## Row * Column"
   ]
  },
  {
   "cell_type": "code",
   "execution_count": 50,
   "id": "17e3136f",
   "metadata": {},
   "outputs": [
    {
     "name": "stdout",
     "output_type": "stream",
     "text": [
      "[[-10  -6  -7]]\n",
      "[[-10]\n",
      " [  9]\n",
      " [ -1]]\n",
      "[[100  60  70]\n",
      " [-90 -54 -63]\n",
      " [ 10   6   7]]\n"
     ]
    }
   ],
   "source": [
    "import numpy as np\n",
    "\n",
    "def generate_matrix(m,n):\n",
    "    matrix = np.random.randint(-10, 11, size=(m,n))\n",
    "    \n",
    "    return matrix\n",
    "\n",
    "row_matrix = generate_matrix(3,1)\n",
    "col_matrix = generate_matrix(1,3)\n",
    "matrix = np.dot(row_matrix,col_matrix)\n",
    "\n",
    "print(col_matrix)\n",
    "print(row_matrix)\n",
    "print(matrix)"
   ]
  },
  {
   "cell_type": "markdown",
   "id": "bb970d37",
   "metadata": {},
   "source": [
    "## 3x3 Invertible with LDU, Determinant\n",
    "#### Practice LU = A, Determinant: For Any Invertible Matrix, Det = Product of U Diagonals"
   ]
  },
  {
   "cell_type": "code",
   "execution_count": 60,
   "id": "cd0a76ab",
   "metadata": {},
   "outputs": [
    {
     "name": "stdout",
     "output_type": "stream",
     "text": [
      "A [[ -1  -1   3]\n",
      " [  8   7   5]\n",
      " [  6 -10  -2]]\n",
      "L:\n",
      "[[ 1.  0.  0.]\n",
      " [-8.  1.  0.]\n",
      " [-6. 16.  1.]]\n",
      "U:\n",
      "[[  -1.   -1.    3.]\n",
      " [   0.   -1.   29.]\n",
      " [   0.    0. -448.]]\n",
      "A2 [[ -1.  -1.   3.]\n",
      " [  8.   7.   5.]\n",
      " [  6. -10.  -2.]]\n",
      "determinant -447.9999999999995\n"
     ]
    }
   ],
   "source": [
    "import numpy as np\n",
    "\n",
    "def generate_invertible_matrix():\n",
    "    while True:\n",
    "        matrix = np.random.randint(-10, 11, size=(3, 3))\n",
    "        # Only return it if it's invertible.\n",
    "        if np.linalg.det(matrix)!= 0:\n",
    "            return matrix\n",
    "\n",
    "def lu_decomposition(A):\n",
    "    n = len(A)\n",
    "    L = np.zeros((n, n))\n",
    "    U = np.zeros((n, n))\n",
    "\n",
    "    for i in range(n):\n",
    "        L[i][i] = 1\n",
    "        for k in range(i, n):\n",
    "            s = sum(L[i][j] * U[j][k] for j in range(i))\n",
    "            U[i][k] = A[i][k] - s\n",
    "        for k in range(i + 1, n):\n",
    "            s = sum(L[k][j] * U[j][i] for j in range(i))\n",
    "            L[k][i] = (A[k][i] - s) / U[i][i]\n",
    "\n",
    "    return L, U\n",
    "\n",
    "# Example usage:\n",
    "\n",
    "A = generate_invertible_matrix()\n",
    "\n",
    "print('A',A)\n",
    "L, U = lu_decomposition(A)\n",
    "print(\"L:\")\n",
    "print(L)\n",
    "print(\"U:\")\n",
    "print(U)\n",
    "\n",
    "A2 = np.dot(L,U)\n",
    "\n",
    "print('A2',A2)\n",
    "\n",
    "determinant = np.linalg.det(A2)\n",
    "\n",
    "print('determinant',determinant)"
   ]
  },
  {
   "cell_type": "markdown",
   "id": "74c339fe",
   "metadata": {},
   "source": [
    "## Eigenvectors, Eigenvalues"
   ]
  },
  {
   "cell_type": "code",
   "execution_count": 62,
   "id": "b334de77",
   "metadata": {},
   "outputs": [
    {
     "name": "stdout",
     "output_type": "stream",
     "text": [
      "Eigenvalues:\n",
      "[ 1.61168440e+01 -1.11684397e+00 -4.29954797e-16]\n",
      "Eigenvectors:\n",
      "[[-0.23197069 -0.78583024  0.40824829]\n",
      " [-0.52532209 -0.08675134 -0.81649658]\n",
      " [-0.8186735   0.61232756  0.40824829]]\n"
     ]
    }
   ],
   "source": [
    "import numpy as np\n",
    "\n",
    "# Define the 3x3 matrix\n",
    "A = np.array([[1, 2, 3], [4, 5, 6], [7, 8, 9]])\n",
    "\n",
    "# Calculate the eigenvalues and eigenvectors\n",
    "eigenvalues, eigenvectors = np.linalg.eig(A)\n",
    "\n",
    "# Print the eigenvalues and eigenvectors\n",
    "print(\"Eigenvalues:\")\n",
    "print(eigenvalues)\n",
    "print(\"Eigenvectors:\")\n",
    "print(eigenvectors)\n"
   ]
  },
  {
   "cell_type": "markdown",
   "id": "37556b99",
   "metadata": {},
   "source": [
    "## Left Nullspace"
   ]
  },
  {
   "cell_type": "code",
   "execution_count": 72,
   "id": "fff8ceb4",
   "metadata": {},
   "outputs": [
    {
     "name": "stdout",
     "output_type": "stream",
     "text": [
      "Left null space basis:\n",
      "[[0.408248]\n",
      " [-0.816497]\n",
      " [0.408248]]\n",
      "A.T @ x: [-0.000000 -0.000000 -0.000000]\n"
     ]
    }
   ],
   "source": [
    "import numpy as np\n",
    "from scipy.linalg import null_space\n",
    "\n",
    "np.set_printoptions(suppress=True,\n",
    "   formatter={'float_kind':'{:f}'.format})\n",
    "\n",
    "def left_null_space(A):\n",
    "    \"\"\"\n",
    "    Computes the left null space of a matrix A.\n",
    "\n",
    "    Args:\n",
    "      A: A numpy array representing the matrix.\n",
    "\n",
    "    Returns:\n",
    "      A numpy array whose columns form an orthonormal basis for the left null space of A.\n",
    "      Returns an empty array if the left null space is trivial.\n",
    "    \"\"\"\n",
    "    return null_space(A.T)\n",
    "\n",
    "# Example usage:\n",
    "A = np.array([[1, 2, 3], [4, 5, 6], [7, 8, 9]])\n",
    "left_null_basis = left_null_space(A)\n",
    "print(\"Left null space basis:\")\n",
    "print(left_null_basis)\n",
    "\n",
    "# Verify that the vectors returned are in the left null space:\n",
    "for i in range(left_null_basis.shape[1]):\n",
    "    x = left_null_basis[:, i]\n",
    "    print(\"A.T @ x:\", np.dot(A.T, x))"
   ]
  }
 ],
 "metadata": {
  "kernelspec": {
   "display_name": "Python 3 (ipykernel)",
   "language": "python",
   "name": "python3"
  },
  "language_info": {
   "codemirror_mode": {
    "name": "ipython",
    "version": 3
   },
   "file_extension": ".py",
   "mimetype": "text/x-python",
   "name": "python",
   "nbconvert_exporter": "python",
   "pygments_lexer": "ipython3",
   "version": "3.9.6"
  }
 },
 "nbformat": 4,
 "nbformat_minor": 5
}
